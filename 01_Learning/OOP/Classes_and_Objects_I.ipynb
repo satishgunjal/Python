{
  "nbformat": 4,
  "nbformat_minor": 0,
  "metadata": {
    "colab": {
      "name": "Classes_and_Objects_I.ipynb",
      "provenance": [],
      "authorship_tag": "ABX9TyNWhouX7zAZlT5jedw1A64d",
      "include_colab_link": true
    },
    "kernelspec": {
      "name": "python3",
      "display_name": "Python 3"
    }
  },
  "cells": [
    {
      "cell_type": "markdown",
      "metadata": {
        "id": "view-in-github",
        "colab_type": "text"
      },
      "source": [
        "<a href=\"https://colab.research.google.com/github/satishgunjal/Python/blob/master/01_Learning/OOP/Classes_and_Objects_I.ipynb\" target=\"_parent\"><img src=\"https://colab.research.google.com/assets/colab-badge.svg\" alt=\"Open In Colab\"/></a>"
      ]
    },
    {
      "cell_type": "markdown",
      "metadata": {
        "id": "hPsqXepgWOLQ",
        "colab_type": "text"
      },
      "source": [
        "# Python Classes and Methods\n",
        "\n",
        "1. Define what is a class\n",
        "2. Describe how to create a class\n",
        "3. Define what is a method\n",
        "4. Describe how to do object instantiation\n",
        "5. Describe how to create instance attributes in Python"
      ]
    },
    {
      "cell_type": "markdown",
      "metadata": {
        "id": "3PWMEFvfXZt0",
        "colab_type": "text"
      },
      "source": [
        "## Create a empty class with no functions"
      ]
    },
    {
      "cell_type": "code",
      "metadata": {
        "id": "jA-yR57wXbJZ",
        "colab_type": "code",
        "colab": {}
      },
      "source": [
        "class Snake:\n",
        "  pass"
      ],
      "execution_count": 0,
      "outputs": []
    },
    {
      "cell_type": "code",
      "metadata": {
        "id": "bG4ZqOU8Xhob",
        "colab_type": "code",
        "colab": {
          "base_uri": "https://localhost:8080/",
          "height": 35
        },
        "outputId": "2255a0d3-a24a-402a-d1ba-16a9ba8ac2d5"
      },
      "source": [
        "snake = Snake() # Create a instance of class\n",
        "print(snake)"
      ],
      "execution_count": 3,
      "outputs": [
        {
          "output_type": "stream",
          "text": [
            "<__main__.Snake object at 0x7f7176670828>\n"
          ],
          "name": "stdout"
        }
      ]
    },
    {
      "cell_type": "markdown",
      "metadata": {
        "id": "vPsdL-jTXxDO",
        "colab_type": "text"
      },
      "source": [
        "## Attributes and Methods in class"
      ]
    },
    {
      "cell_type": "markdown",
      "metadata": {
        "id": "Fh1iFM9RX2lw",
        "colab_type": "text"
      },
      "source": [
        "Creating an attribute in a class"
      ]
    },
    {
      "cell_type": "code",
      "metadata": {
        "id": "yfydnvYPYTEE",
        "colab_type": "code",
        "colab": {}
      },
      "source": [
        "class Snake:\n",
        "  name= 'python'"
      ],
      "execution_count": 0,
      "outputs": []
    },
    {
      "cell_type": "code",
      "metadata": {
        "id": "SxwY9LXlYb9H",
        "colab_type": "code",
        "colab": {
          "base_uri": "https://localhost:8080/",
          "height": 35
        },
        "outputId": "afc966b4-79c2-4d4c-a098-620fec5fa990"
      },
      "source": [
        "snake = Snake()\n",
        "print(snake.name)"
      ],
      "execution_count": 5,
      "outputs": [
        {
          "output_type": "stream",
          "text": [
            "python\n"
          ],
          "name": "stdout"
        }
      ]
    },
    {
      "cell_type": "markdown",
      "metadata": {
        "id": "2OlKCj7CZyav",
        "colab_type": "text"
      },
      "source": [
        "Create a method inside class"
      ]
    },
    {
      "cell_type": "code",
      "metadata": {
        "id": "L8q5-05xVuZ1",
        "colab_type": "code",
        "colab": {}
      },
      "source": [
        "class Snake:\n",
        "  name='python'\n",
        "\n",
        "  def change_name(self,new_name): # first parameter/argument will always be 'self'\n",
        "    self.name = new_name  # accessing the class attribute with self name"
      ],
      "execution_count": 0,
      "outputs": []
    },
    {
      "cell_type": "code",
      "metadata": {
        "id": "MMePcdX7aToU",
        "colab_type": "code",
        "colab": {
          "base_uri": "https://localhost:8080/",
          "height": 35
        },
        "outputId": "a5330454-9ffd-4585-d73f-f3d7ea583790"
      },
      "source": [
        "snake= Snake()\n",
        "snake.change_name('anaconda')\n",
        "print(snake.name)"
      ],
      "execution_count": 8,
      "outputs": [
        {
          "output_type": "stream",
          "text": [
            "anaconda\n"
          ],
          "name": "stdout"
        }
      ]
    },
    {
      "cell_type": "markdown",
      "metadata": {
        "id": "6Ue8LZtQbFKK",
        "colab_type": "text"
      },
      "source": [
        "**Instance attribute in python and init method**\n",
        "\n",
        "in python constructor of the class is defined by __init__ method. This method will get called when object is created and it allows the class to initialize the attributes of the class"
      ]
    },
    {
      "cell_type": "code",
      "metadata": {
        "id": "mw-i7nmecVYW",
        "colab_type": "code",
        "colab": {}
      },
      "source": [
        "class Snake:\n",
        "  def __init__(self,name):\n",
        "    self.name=name\n",
        "\n",
        "  def change_name(self,new_name):\n",
        "    self.name = new_name\n"
      ],
      "execution_count": 0,
      "outputs": []
    },
    {
      "cell_type": "markdown",
      "metadata": {
        "id": "G8LtaTCKdRep",
        "colab_type": "text"
      },
      "source": [
        "Now you can directly define separate attribute values to separate objects"
      ]
    },
    {
      "cell_type": "code",
      "metadata": {
        "id": "_6nwXiaJcs21",
        "colab_type": "code",
        "colab": {
          "base_uri": "https://localhost:8080/",
          "height": 52
        },
        "outputId": "c4d9119d-ca77-4f27-88e2-584f7da4647f"
      },
      "source": [
        "#create two instance of the class\n",
        "python = Snake('python')\n",
        "anaconda = Snake('anaconda')\n",
        "print(python.name)\n",
        "print(anaconda.name)"
      ],
      "execution_count": 12,
      "outputs": [
        {
          "output_type": "stream",
          "text": [
            "python\n",
            "anaconda\n"
          ],
          "name": "stdout"
        }
      ]
    }
  ]
}