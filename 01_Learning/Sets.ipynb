{
  "nbformat": 4,
  "nbformat_minor": 0,
  "metadata": {
    "colab": {
      "name": "Sets.ipynb",
      "provenance": [],
      "authorship_tag": "ABX9TyMV6FxbyuXYsIj31u9TTCvH",
      "include_colab_link": true
    },
    "kernelspec": {
      "name": "python3",
      "display_name": "Python 3"
    }
  },
  "cells": [
    {
      "cell_type": "markdown",
      "metadata": {
        "id": "view-in-github",
        "colab_type": "text"
      },
      "source": [
        "<a href=\"https://colab.research.google.com/github/satishgunjal/Python/blob/master/01_Learning/Sets.ipynb\" target=\"_parent\"><img src=\"https://colab.research.google.com/assets/colab-badge.svg\" alt=\"Open In Colab\"/></a>"
      ]
    },
    {
      "cell_type": "markdown",
      "metadata": {
        "id": "cxDWn7I_FH4D",
        "colab_type": "text"
      },
      "source": [
        "# Sets\n",
        "\n",
        "*   A set is an unordered collection data type with no duplicate elements\n",
        "*   Sets are commonly used for membership testing, removing duplicates entries, and also for operations such as intersection, union, and set difference."
      ]
    },
    {
      "cell_type": "markdown",
      "metadata": {
        "id": "EcoFlNlkFgLk",
        "colab_type": "text"
      },
      "source": [
        "## How to create sets"
      ]
    },
    {
      "cell_type": "code",
      "metadata": {
        "id": "5IdNU67BFlcZ",
        "colab_type": "code",
        "colab": {
          "base_uri": "https://localhost:8080/",
          "height": 52
        },
        "outputId": "0358e730-887c-4e22-acb5-6f543c3e9088"
      },
      "source": [
        "setA = set() # creating empty set\n",
        "print(type(setA))\n",
        "print(setA)"
      ],
      "execution_count": 32,
      "outputs": [
        {
          "output_type": "stream",
          "text": [
            "<class 'set'>\n",
            "set()\n"
          ],
          "name": "stdout"
        }
      ]
    },
    {
      "cell_type": "code",
      "metadata": {
        "id": "bNsbS73EG49U",
        "colab_type": "code",
        "colab": {
          "base_uri": "https://localhost:8080/",
          "height": 35
        },
        "outputId": "73f0959c-b287-4294-8e0d-9ca15546dabd"
      },
      "source": [
        "#Creating a set with a string\n",
        "setA = set(\"somestring\") \n",
        "setA # notice below there is no duplicate character"
      ],
      "execution_count": 18,
      "outputs": [
        {
          "output_type": "execute_result",
          "data": {
            "text/plain": [
              "{'e', 'g', 'i', 'm', 'n', 'o', 'r', 's', 't'}"
            ]
          },
          "metadata": {
            "tags": []
          },
          "execution_count": 18
        }
      ]
    },
    {
      "cell_type": "code",
      "metadata": {
        "id": "3wDkotWPHdOF",
        "colab_type": "code",
        "colab": {
          "base_uri": "https://localhost:8080/",
          "height": 35
        },
        "outputId": "085b2b17-2ba3-41b7-d813-6a8ae95fc3ee"
      },
      "source": [
        "#Creating set with list\n",
        "setA = set(['C','C++','Python'])\n",
        "setA"
      ],
      "execution_count": 19,
      "outputs": [
        {
          "output_type": "execute_result",
          "data": {
            "text/plain": [
              "{'C', 'C++', 'Python'}"
            ]
          },
          "metadata": {
            "tags": []
          },
          "execution_count": 19
        }
      ]
    },
    {
      "cell_type": "code",
      "metadata": {
        "id": "-tFaYtgkE1n3",
        "colab_type": "code",
        "colab": {
          "base_uri": "https://localhost:8080/",
          "height": 35
        },
        "outputId": "f1cc693e-08e2-4875-bc66-1e06e2c7d031"
      },
      "source": [
        "#Creating a set with list of a number\n",
        "setA = set([1,1,2,2,3,3,4,4,5,5,6,6])\n",
        "setA # notice set wont have duplicate numbers"
      ],
      "execution_count": 33,
      "outputs": [
        {
          "output_type": "execute_result",
          "data": {
            "text/plain": [
              "{1, 2, 3, 4, 5, 6}"
            ]
          },
          "metadata": {
            "tags": []
          },
          "execution_count": 33
        }
      ]
    },
    {
      "cell_type": "markdown",
      "metadata": {
        "id": "UX_VkfisI_Gi",
        "colab_type": "text"
      },
      "source": [
        "## Methods to change a set"
      ]
    },
    {
      "cell_type": "markdown",
      "metadata": {
        "id": "nwb62t9FMxVb",
        "colab_type": "text"
      },
      "source": [
        "### How to add elements to a set"
      ]
    },
    {
      "cell_type": "code",
      "metadata": {
        "id": "PIQa9o-lJD8w",
        "colab_type": "code",
        "colab": {
          "base_uri": "https://localhost:8080/",
          "height": 35
        },
        "outputId": "101aeefd-1516-42b2-8a30-41f489a0d4d5"
      },
      "source": [
        "# Adding an element to a set\n",
        "setA.add(7)\n",
        "setA"
      ],
      "execution_count": 34,
      "outputs": [
        {
          "output_type": "execute_result",
          "data": {
            "text/plain": [
              "{1, 2, 3, 4, 5, 6, 7}"
            ]
          },
          "metadata": {
            "tags": []
          },
          "execution_count": 34
        }
      ]
    },
    {
      "cell_type": "code",
      "metadata": {
        "id": "MjaPb-eXJ0_z",
        "colab_type": "code",
        "colab": {
          "base_uri": "https://localhost:8080/",
          "height": 35
        },
        "outputId": "eaed8b53-55e5-4f86-e72d-002f0c91c501"
      },
      "source": [
        "#Adding a tuple to a set\n",
        "setA.add((8,9))\n",
        "setA"
      ],
      "execution_count": 35,
      "outputs": [
        {
          "output_type": "execute_result",
          "data": {
            "text/plain": [
              "{(8, 9), 1, 2, 3, 4, 5, 6, 7}"
            ]
          },
          "metadata": {
            "tags": []
          },
          "execution_count": 35
        }
      ]
    },
    {
      "cell_type": "markdown",
      "metadata": {
        "id": "bJX2omPHLT67",
        "colab_type": "text"
      },
      "source": [
        "**NOTEL:** Using add, elements can be added but not another iterable like set, list, or tuple. Update can be used to add iterable or iterables of hashable elements"
      ]
    },
    {
      "cell_type": "code",
      "metadata": {
        "id": "ZoD1FesTLW1X",
        "colab_type": "code",
        "colab": {
          "base_uri": "https://localhost:8080/",
          "height": 187
        },
        "outputId": "5b0636f1-3f61-42e6-a7ff-59ebb1e72c11"
      },
      "source": [
        "#adding alist with element 10 and 11 to a set\n",
        "setA.update([10,11]) # Instead of 'update' if you use 'add' it will give an error\n",
        "setA"
      ],
      "execution_count": 37,
      "outputs": [
        {
          "output_type": "error",
          "ename": "TypeError",
          "evalue": "ignored",
          "traceback": [
            "\u001b[0;31m---------------------------------------------------------------------------\u001b[0m",
            "\u001b[0;31mTypeError\u001b[0m                                 Traceback (most recent call last)",
            "\u001b[0;32m<ipython-input-37-5fc7e0f6a152>\u001b[0m in \u001b[0;36m<module>\u001b[0;34m()\u001b[0m\n\u001b[0;32m----> 1\u001b[0;31m \u001b[0msetA\u001b[0m\u001b[0;34m.\u001b[0m\u001b[0madd\u001b[0m\u001b[0;34m(\u001b[0m\u001b[0;34m[\u001b[0m\u001b[0;36m10\u001b[0m\u001b[0;34m,\u001b[0m\u001b[0;36m11\u001b[0m\u001b[0;34m]\u001b[0m\u001b[0;34m)\u001b[0m\u001b[0;34m\u001b[0m\u001b[0;34m\u001b[0m\u001b[0m\n\u001b[0m\u001b[1;32m      2\u001b[0m \u001b[0msetA\u001b[0m\u001b[0;34m\u001b[0m\u001b[0;34m\u001b[0m\u001b[0m\n",
            "\u001b[0;31mTypeError\u001b[0m: unhashable type: 'list'"
          ]
        }
      ]
    },
    {
      "cell_type": "code",
      "metadata": {
        "id": "Kyv7w2VrMgRk",
        "colab_type": "code",
        "colab": {
          "base_uri": "https://localhost:8080/",
          "height": 35
        },
        "outputId": "7e2ac50c-5349-461b-9f74-dd84bff16d77"
      },
      "source": [
        "#Similarly you can update alist and new set in setA\n",
        "setA.update([12,13],{14,15})\n",
        "setA"
      ],
      "execution_count": 38,
      "outputs": [
        {
          "output_type": "execute_result",
          "data": {
            "text/plain": [
              "{(8, 9), 1, 10, 11, 12, 13, 14, 15, 2, 3, 4, 5, 6, 7}"
            ]
          },
          "metadata": {
            "tags": []
          },
          "execution_count": 38
        }
      ]
    },
    {
      "cell_type": "markdown",
      "metadata": {
        "id": "Rwp2DnPaMy6g",
        "colab_type": "text"
      },
      "source": [
        "### Methods to remove elements from a set"
      ]
    },
    {
      "cell_type": "markdown",
      "metadata": {
        "id": "wbLt3GvZNUrN",
        "colab_type": "text"
      },
      "source": [
        "**NOTE:** Both discard and remove take a single argument, the element to be deleted from the set. If the value is not present, discard() does not do anything. Whereas, remove will raise a KeyError exception"
      ]
    },
    {
      "cell_type": "code",
      "metadata": {
        "id": "WDdy0nqCM3Yc",
        "colab_type": "code",
        "colab": {
          "base_uri": "https://localhost:8080/",
          "height": 35
        },
        "outputId": "a78872bd-6f45-40ef-8780-89836f569bf6"
      },
      "source": [
        "setA.discard(7)\n",
        "setA"
      ],
      "execution_count": 40,
      "outputs": [
        {
          "output_type": "execute_result",
          "data": {
            "text/plain": [
              "{(8, 9), 1, 10, 11, 12, 13, 14, 15, 2, 3, 4, 5, 6}"
            ]
          },
          "metadata": {
            "tags": []
          },
          "execution_count": 40
        }
      ]
    },
    {
      "cell_type": "code",
      "metadata": {
        "id": "pZKKXeLHNGEa",
        "colab_type": "code",
        "colab": {
          "base_uri": "https://localhost:8080/",
          "height": 35
        },
        "outputId": "ba500203-dadf-4652-f61e-75c77bb429da"
      },
      "source": [
        "setA.remove(10)\n",
        "setA"
      ],
      "execution_count": 42,
      "outputs": [
        {
          "output_type": "execute_result",
          "data": {
            "text/plain": [
              "{(8, 9), 1, 11, 12, 13, 14, 15, 2, 3, 4, 5, 6}"
            ]
          },
          "metadata": {
            "tags": []
          },
          "execution_count": 42
        }
      ]
    },
    {
      "cell_type": "markdown",
      "metadata": {
        "id": "4J0ck-6KN50r",
        "colab_type": "text"
      },
      "source": [
        "### Other useful set method"
      ]
    },
    {
      "cell_type": "code",
      "metadata": {
        "id": "NawW1xwjN71s",
        "colab_type": "code",
        "colab": {
          "base_uri": "https://localhost:8080/",
          "height": 35
        },
        "outputId": "7261eafd-f446-4806-c501-e495ccd73aa1"
      },
      "source": [
        "shallow_copy_of_setA =setA.copy()\n",
        "shallow_copy_of_setA\n",
        "#Note: Instaed of copy if we use assignment here then it will create anpointer to existing set."
      ],
      "execution_count": 44,
      "outputs": [
        {
          "output_type": "execute_result",
          "data": {
            "text/plain": [
              "{(8, 9), 1, 11, 12, 13, 14, 15, 2, 3, 4, 5, 6}"
            ]
          },
          "metadata": {
            "tags": []
          },
          "execution_count": 44
        }
      ]
    },
    {
      "cell_type": "code",
      "metadata": {
        "id": "pQX9KjaFPELT",
        "colab_type": "code",
        "colab": {
          "base_uri": "https://localhost:8080/",
          "height": 35
        },
        "outputId": "b375411f-c76e-4f69-aa0a-d123c0ed7aff"
      },
      "source": [
        "#Removing all the elements froma set\n",
        "shallow_copy_of_setA.clear()\n",
        "shallow_copy_of_setA"
      ],
      "execution_count": 45,
      "outputs": [
        {
          "output_type": "execute_result",
          "data": {
            "text/plain": [
              "set()"
            ]
          },
          "metadata": {
            "tags": []
          },
          "execution_count": 45
        }
      ]
    },
    {
      "cell_type": "code",
      "metadata": {
        "id": "lU12Ce6hPPGf",
        "colab_type": "code",
        "colab": {
          "base_uri": "https://localhost:8080/",
          "height": 35
        },
        "outputId": "6132a589-ca37-4041-8bc0-2b78693e9338"
      },
      "source": [
        "#Removing arbitaryu/random element from set\n",
        "setA.pop()\n",
        "setA"
      ],
      "execution_count": 47,
      "outputs": [
        {
          "output_type": "execute_result",
          "data": {
            "text/plain": [
              "{(8, 9), 11, 12, 13, 14, 15, 2, 3, 4, 5, 6}"
            ]
          },
          "metadata": {
            "tags": []
          },
          "execution_count": 47
        }
      ]
    },
    {
      "cell_type": "code",
      "metadata": {
        "id": "V5U2mBgFPcPM",
        "colab_type": "code",
        "colab": {
          "base_uri": "https://localhost:8080/",
          "height": 169
        },
        "outputId": "6472da9a-353e-4b74-80c1-b9dcf9080c3f"
      },
      "source": [
        "#pop raises the KeyError if set is empty\n",
        "shallow_copy_of_setA.pop()"
      ],
      "execution_count": 48,
      "outputs": [
        {
          "output_type": "error",
          "ename": "KeyError",
          "evalue": "ignored",
          "traceback": [
            "\u001b[0;31m---------------------------------------------------------------------------\u001b[0m",
            "\u001b[0;31mKeyError\u001b[0m                                  Traceback (most recent call last)",
            "\u001b[0;32m<ipython-input-48-35811e2c9b07>\u001b[0m in \u001b[0;36m<module>\u001b[0;34m()\u001b[0m\n\u001b[0;32m----> 1\u001b[0;31m \u001b[0mshallow_copy_of_setA\u001b[0m\u001b[0;34m.\u001b[0m\u001b[0mpop\u001b[0m\u001b[0;34m(\u001b[0m\u001b[0;34m)\u001b[0m\u001b[0;34m\u001b[0m\u001b[0;34m\u001b[0m\u001b[0m\n\u001b[0m",
            "\u001b[0;31mKeyError\u001b[0m: 'pop from an empty set'"
          ]
        }
      ]
    },
    {
      "cell_type": "markdown",
      "metadata": {
        "id": "ZFseateZPqxB",
        "colab_type": "text"
      },
      "source": [
        "## Set operations\n",
        "\n",
        "set.intersection() > returns element present in both the sets. This can also be achived using ampersand operator (&)"
      ]
    },
    {
      "cell_type": "code",
      "metadata": {
        "id": "4jHfzf3PQTxv",
        "colab_type": "code",
        "colab": {
          "base_uri": "https://localhost:8080/",
          "height": 35
        },
        "outputId": "877ac4aa-80fd-4fb2-c569-7f01e12662f0"
      },
      "source": [
        "#create a new set\n",
        "setB = set([1, 2, 3, 4, 5, 10, 15, 22])\n",
        "setB"
      ],
      "execution_count": 49,
      "outputs": [
        {
          "output_type": "execute_result",
          "data": {
            "text/plain": [
              "{1, 2, 3, 4, 5, 10, 15, 22}"
            ]
          },
          "metadata": {
            "tags": []
          },
          "execution_count": 49
        }
      ]
    },
    {
      "cell_type": "code",
      "metadata": {
        "id": "I-zTVBVIQjLt",
        "colab_type": "code",
        "colab": {
          "base_uri": "https://localhost:8080/",
          "height": 35
        },
        "outputId": "ab8c62b1-3383-4d9a-bbe8-c9e74eb5129c"
      },
      "source": [
        "#Create anew set from setA and setB\n",
        "setC = setA & setB\n",
        "setC"
      ],
      "execution_count": 51,
      "outputs": [
        {
          "output_type": "execute_result",
          "data": {
            "text/plain": [
              "{2, 3, 4, 5, 15}"
            ]
          },
          "metadata": {
            "tags": []
          },
          "execution_count": 51
        }
      ]
    },
    {
      "cell_type": "code",
      "metadata": {
        "id": "EfDMN8JWQt5d",
        "colab_type": "code",
        "colab": {
          "base_uri": "https://localhost:8080/",
          "height": 35
        },
        "outputId": "22e89f27-23fa-4e00-ea25-544f14942fb9"
      },
      "source": [
        "#We will get same results using intersection method\n",
        "setC =setA.intersection(setB)\n",
        "setC"
      ],
      "execution_count": 52,
      "outputs": [
        {
          "output_type": "execute_result",
          "data": {
            "text/plain": [
              "{2, 3, 4, 5, 15}"
            ]
          },
          "metadata": {
            "tags": []
          },
          "execution_count": 52
        }
      ]
    },
    {
      "cell_type": "code",
      "metadata": {
        "id": "yncuvcDlR6SV",
        "colab_type": "code",
        "colab": {
          "base_uri": "https://localhost:8080/",
          "height": 35
        },
        "outputId": "abb621f9-5bc0-4053-f0f4-59259d23f28b"
      },
      "source": [
        "#Print a new set with values present in setA but not in setB\n",
        "setA.difference(setB)"
      ],
      "execution_count": 53,
      "outputs": [
        {
          "output_type": "execute_result",
          "data": {
            "text/plain": [
              "{(8, 9), 11, 12, 13, 14, 6}"
            ]
          },
          "metadata": {
            "tags": []
          },
          "execution_count": 53
        }
      ]
    },
    {
      "cell_type": "code",
      "metadata": {
        "id": "zF5aWkUHSOc7",
        "colab_type": "code",
        "colab": {
          "base_uri": "https://localhost:8080/",
          "height": 35
        },
        "outputId": "ca68d35a-83ee-41b4-fbe6-9436a3d2b8ad"
      },
      "source": [
        "#Also we can use '-' operator to find the difference between two sets\n",
        "setDiff = setA - setB\n",
        "setDiff"
      ],
      "execution_count": 56,
      "outputs": [
        {
          "output_type": "execute_result",
          "data": {
            "text/plain": [
              "{(8, 9), 11, 12, 13, 14, 6}"
            ]
          },
          "metadata": {
            "tags": []
          },
          "execution_count": 56
        }
      ]
    },
    {
      "cell_type": "markdown",
      "metadata": {
        "id": "Ic5gQ5pFS2jv",
        "colab_type": "text"
      },
      "source": [
        "##n Other set operations"
      ]
    },
    {
      "cell_type": "code",
      "metadata": {
        "id": "miD3ty94S5OV",
        "colab_type": "code",
        "colab": {
          "base_uri": "https://localhost:8080/",
          "height": 52
        },
        "outputId": "147629f4-5401-43b6-ffde-81881d140e2d"
      },
      "source": [
        "#isdisjoint() returns 'true' if intersection of set is empty otherwise 'fasle\n",
        "print(setA.isdisjoint(setB))\n",
        "# Create new set\n",
        "setD = set([99,100])\n",
        "print(setA.isdisjoint(setD))\n"
      ],
      "execution_count": 59,
      "outputs": [
        {
          "output_type": "stream",
          "text": [
            "False\n",
            "True\n"
          ],
          "name": "stdout"
        }
      ]
    },
    {
      "cell_type": "code",
      "metadata": {
        "id": "MLo5Zg0FUKdC",
        "colab_type": "code",
        "colab": {
          "base_uri": "https://localhost:8080/",
          "height": 35
        },
        "outputId": "d14c154c-637a-4008-a4fb-9b05bc97348f"
      },
      "source": [
        "# Update setA by removing all elements present in setB fromsetA\n",
        "setA.difference_update(setB)\n",
        "setA"
      ],
      "execution_count": 61,
      "outputs": [
        {
          "output_type": "execute_result",
          "data": {
            "text/plain": [
              "{(8, 9), 11, 12, 13, 14, 6}"
            ]
          },
          "metadata": {
            "tags": []
          },
          "execution_count": 61
        }
      ]
    },
    {
      "cell_type": "code",
      "metadata": {
        "id": "xD0IrWVoUk3Q",
        "colab_type": "code",
        "colab": {}
      },
      "source": [
        "# Similarly, setA.intersection_update(setB) removes elements from setA which are not present in the intersection set of setA and setB"
      ],
      "execution_count": 0,
      "outputs": []
    },
    {
      "cell_type": "markdown",
      "metadata": {
        "id": "v0nk25HcU4k_",
        "colab_type": "text"
      },
      "source": [
        "issubset() and issuperset() setA.issubset(setB) returns True if setA is subset of setB, False if not. “<=” operator can be used to test for issubset. To check for proper subset “<” is used"
      ]
    },
    {
      "cell_type": "code",
      "metadata": {
        "id": "Cy_kVPFKU5JN",
        "colab_type": "code",
        "colab": {
          "base_uri": "https://localhost:8080/",
          "height": 35
        },
        "outputId": "00c6565a-17f3-4612-9d4d-2890cbe16222"
      },
      "source": [
        "# check if setA is subset of setB\n",
        "setA.issubset(setB)"
      ],
      "execution_count": 62,
      "outputs": [
        {
          "output_type": "execute_result",
          "data": {
            "text/plain": [
              "False"
            ]
          },
          "metadata": {
            "tags": []
          },
          "execution_count": 62
        }
      ]
    },
    {
      "cell_type": "code",
      "metadata": {
        "id": "GBoXjKKhVAcK",
        "colab_type": "code",
        "colab": {
          "base_uri": "https://localhost:8080/",
          "height": 35
        },
        "outputId": "702a73b5-1435-45d4-fba8-5dd720ecff99"
      },
      "source": [
        "#check if setB is subset of setA\n",
        "setB.issubset(setA)"
      ],
      "execution_count": 63,
      "outputs": [
        {
          "output_type": "execute_result",
          "data": {
            "text/plain": [
              "False"
            ]
          },
          "metadata": {
            "tags": []
          },
          "execution_count": 63
        }
      ]
    }
  ]
}