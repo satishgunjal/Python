{
  "nbformat": 4,
  "nbformat_minor": 0,
  "metadata": {
    "colab": {
      "name": "Lists.ipynb",
      "provenance": [],
      "authorship_tag": "ABX9TyOFggYsP/J83lvK5umjE3J0",
      "include_colab_link": true
    },
    "kernelspec": {
      "name": "python3",
      "display_name": "Python 3"
    }
  },
  "cells": [
    {
      "cell_type": "markdown",
      "metadata": {
        "id": "view-in-github",
        "colab_type": "text"
      },
      "source": [
        "<a href=\"https://colab.research.google.com/github/satishgunjal/Python/blob/master/01_Learning/Lists.ipynb\" target=\"_parent\"><img src=\"https://colab.research.google.com/assets/colab-badge.svg\" alt=\"Open In Colab\"/></a>"
      ]
    },
    {
      "cell_type": "markdown",
      "metadata": {
        "id": "-NbiT8HKkgsH",
        "colab_type": "text"
      },
      "source": [
        "## Lists"
      ]
    },
    {
      "cell_type": "markdown",
      "metadata": {
        "id": "MqzrmgcKkkWH",
        "colab_type": "text"
      },
      "source": [
        "Create a list"
      ]
    },
    {
      "cell_type": "code",
      "metadata": {
        "id": "ruxajKDOkq35",
        "colab_type": "code",
        "colab": {}
      },
      "source": [
        "companies = ['comp1', 'comp2', 'comp3']"
      ],
      "execution_count": 0,
      "outputs": []
    },
    {
      "cell_type": "markdown",
      "metadata": {
        "id": "8jMpmIp6k9du",
        "colab_type": "text"
      },
      "source": [
        "Get the first company name"
      ]
    },
    {
      "cell_type": "code",
      "metadata": {
        "id": "4VZxJJRbk_zX",
        "colab_type": "code",
        "colab": {
          "base_uri": "https://localhost:8080/",
          "height": 35
        },
        "outputId": "f5fde98f-7d3b-4429-d734-591908d72b22"
      },
      "source": [
        "companies[0]"
      ],
      "execution_count": 5,
      "outputs": [
        {
          "output_type": "execute_result",
          "data": {
            "text/plain": [
              "'comp1'"
            ]
          },
          "metadata": {
            "tags": []
          },
          "execution_count": 5
        }
      ]
    },
    {
      "cell_type": "markdown",
      "metadata": {
        "id": "kXyExdrWlaot",
        "colab_type": "text"
      },
      "source": [
        "Trying to acee the element outside the range will generate an error. \n",
        "Creating nested list"
      ]
    },
    {
      "cell_type": "code",
      "metadata": {
        "id": "ud_yo1HDlisB",
        "colab_type": "code",
        "colab": {
          "base_uri": "https://localhost:8080/",
          "height": 35
        },
        "outputId": "029c9abe-a39e-4394-ce6b-470b5857697b"
      },
      "source": [
        "nested_list = [['lis1', 'list2'], ['list3', 'list4']]\n",
        "nested_list"
      ],
      "execution_count": 7,
      "outputs": [
        {
          "output_type": "execute_result",
          "data": {
            "text/plain": [
              "[['lis1', 'list2'], ['list3', 'list4']]"
            ]
          },
          "metadata": {
            "tags": []
          },
          "execution_count": 7
        }
      ]
    },
    {
      "cell_type": "markdown",
      "metadata": {
        "id": "g58e1nDvmelu",
        "colab_type": "text"
      },
      "source": [
        "Adding new element to list at the end."
      ]
    },
    {
      "cell_type": "code",
      "metadata": {
        "id": "fVcZkOP6mh6P",
        "colab_type": "code",
        "colab": {
          "base_uri": "https://localhost:8080/",
          "height": 35
        },
        "outputId": "9de44e22-02c1-4e25-94e2-f04465b3a222"
      },
      "source": [
        "companies.append('new element')\n",
        "companies"
      ],
      "execution_count": 9,
      "outputs": [
        {
          "output_type": "execute_result",
          "data": {
            "text/plain": [
              "['comp1', 'comp2', 'comp3', 'new element', 'new element']"
            ]
          },
          "metadata": {
            "tags": []
          },
          "execution_count": 9
        }
      ]
    },
    {
      "cell_type": "markdown",
      "metadata": {
        "id": "j3WxQpJLm6Ej",
        "colab_type": "text"
      },
      "source": [
        "Inserting aelement at specific index"
      ]
    },
    {
      "cell_type": "code",
      "metadata": {
        "id": "w4fi2BtSm-mn",
        "colab_type": "code",
        "colab": {
          "base_uri": "https://localhost:8080/",
          "height": 35
        },
        "outputId": "4899acb6-3d59-4dee-85a3-6fb8e0c13f3a"
      },
      "source": [
        "companies.insert(2, 'element_at_index_2')\n",
        "companies"
      ],
      "execution_count": 10,
      "outputs": [
        {
          "output_type": "execute_result",
          "data": {
            "text/plain": [
              "['comp1', 'comp2', 'element_at_index_2', 'comp3', 'new element', 'new element']"
            ]
          },
          "metadata": {
            "tags": []
          },
          "execution_count": 10
        }
      ]
    },
    {
      "cell_type": "markdown",
      "metadata": {
        "id": "dRhWTs5gndDd",
        "colab_type": "text"
      },
      "source": [
        "Adding/concatenating two list"
      ]
    },
    {
      "cell_type": "code",
      "metadata": {
        "id": "6VHgq99Gnk2M",
        "colab_type": "code",
        "colab": {
          "base_uri": "https://localhost:8080/",
          "height": 156
        },
        "outputId": "8bb50e50-7790-488c-9f63-85a86bb8fa66"
      },
      "source": [
        "companies.extend(nested_list)\n",
        "companies"
      ],
      "execution_count": 11,
      "outputs": [
        {
          "output_type": "execute_result",
          "data": {
            "text/plain": [
              "['comp1',\n",
              " 'comp2',\n",
              " 'element_at_index_2',\n",
              " 'comp3',\n",
              " 'new element',\n",
              " 'new element',\n",
              " ['lis1', 'list2'],\n",
              " ['list3', 'list4']]"
            ]
          },
          "metadata": {
            "tags": []
          },
          "execution_count": 11
        }
      ]
    },
    {
      "cell_type": "markdown",
      "metadata": {
        "id": "3CooQA4apBcW",
        "colab_type": "text"
      },
      "source": [
        "Get index of the element in  a list"
      ]
    },
    {
      "cell_type": "code",
      "metadata": {
        "id": "S7FCmAU6pEcX",
        "colab_type": "code",
        "colab": {
          "base_uri": "https://localhost:8080/",
          "height": 35
        },
        "outputId": "42f665e6-0bd2-4422-e3bd-ebd2071817e1"
      },
      "source": [
        "index = companies.index('comp3')\n",
        "index"
      ],
      "execution_count": 12,
      "outputs": [
        {
          "output_type": "execute_result",
          "data": {
            "text/plain": [
              "3"
            ]
          },
          "metadata": {
            "tags": []
          },
          "execution_count": 12
        }
      ]
    },
    {
      "cell_type": "markdown",
      "metadata": {
        "id": "yTllbJEop4pS",
        "colab_type": "text"
      },
      "source": [
        "Remove element from list"
      ]
    },
    {
      "cell_type": "code",
      "metadata": {
        "id": "JBDiCUJlp7X5",
        "colab_type": "code",
        "colab": {
          "base_uri": "https://localhost:8080/",
          "height": 139
        },
        "outputId": "19cf0680-ab79-4546-9054-63b95473dedb"
      },
      "source": [
        "companies.remove('comp3')\n",
        "companies"
      ],
      "execution_count": 13,
      "outputs": [
        {
          "output_type": "execute_result",
          "data": {
            "text/plain": [
              "['comp1',\n",
              " 'comp2',\n",
              " 'element_at_index_2',\n",
              " 'new element',\n",
              " 'new element',\n",
              " ['lis1', 'list2'],\n",
              " ['list3', 'list4']]"
            ]
          },
          "metadata": {
            "tags": []
          },
          "execution_count": 13
        }
      ]
    },
    {
      "cell_type": "markdown",
      "metadata": {
        "id": "B9oZaVeNq-ZE",
        "colab_type": "text"
      },
      "source": [
        "Removing the element by index"
      ]
    },
    {
      "cell_type": "code",
      "metadata": {
        "id": "bC1b5P1WrCJO",
        "colab_type": "code",
        "colab": {
          "base_uri": "https://localhost:8080/",
          "height": 35
        },
        "outputId": "77732dda-7dc7-4b1a-c70f-d00ae17d0017"
      },
      "source": [
        "companies.pop() # since no index provided it will remove the last index element\n",
        "companies"
      ],
      "execution_count": 15,
      "outputs": [
        {
          "output_type": "execute_result",
          "data": {
            "text/plain": [
              "['comp1', 'comp2', 'element_at_index_2', 'new element', 'new element']"
            ]
          },
          "metadata": {
            "tags": []
          },
          "execution_count": 15
        }
      ]
    },
    {
      "cell_type": "code",
      "metadata": {
        "id": "-Et5s6_nrP9-",
        "colab_type": "code",
        "colab": {
          "base_uri": "https://localhost:8080/",
          "height": 35
        },
        "outputId": "e5adf748-18d0-4932-87fd-ea513c3f537c"
      },
      "source": [
        "companies.pop(1) # since index= 1 , it will remove the element at index 1\n",
        "companies"
      ],
      "execution_count": 16,
      "outputs": [
        {
          "output_type": "execute_result",
          "data": {
            "text/plain": [
              "['comp1', 'element_at_index_2', 'new element', 'new element']"
            ]
          },
          "metadata": {
            "tags": []
          },
          "execution_count": 16
        }
      ]
    },
    {
      "cell_type": "markdown",
      "metadata": {
        "id": "rG-m-EYormJH",
        "colab_type": "text"
      },
      "source": [
        "Sorting the list"
      ]
    },
    {
      "cell_type": "code",
      "metadata": {
        "id": "5FEFrvTyroSt",
        "colab_type": "code",
        "colab": {
          "base_uri": "https://localhost:8080/",
          "height": 35
        },
        "outputId": "b2484716-8ae3-440c-b901-5e6c05d4cb18"
      },
      "source": [
        "numbers = [1,4,5,7,8,9, 6,3,2]\n",
        "numbers.sort()\n",
        "numbers"
      ],
      "execution_count": 18,
      "outputs": [
        {
          "output_type": "execute_result",
          "data": {
            "text/plain": [
              "[1, 2, 3, 4, 5, 6, 7, 8, 9]"
            ]
          },
          "metadata": {
            "tags": []
          },
          "execution_count": 18
        }
      ]
    },
    {
      "cell_type": "markdown",
      "metadata": {
        "id": "4f2LQquTr50_",
        "colab_type": "text"
      },
      "source": [
        "Reversing the list"
      ]
    },
    {
      "cell_type": "code",
      "metadata": {
        "id": "NvPdmflEr7WL",
        "colab_type": "code",
        "colab": {
          "base_uri": "https://localhost:8080/",
          "height": 35
        },
        "outputId": "ee4ae715-1ae5-4acf-d79c-70243ea0c469"
      },
      "source": [
        "numbers.reverse()\n",
        "numbers"
      ],
      "execution_count": 19,
      "outputs": [
        {
          "output_type": "execute_result",
          "data": {
            "text/plain": [
              "[9, 8, 7, 6, 5, 4, 3, 2, 1]"
            ]
          },
          "metadata": {
            "tags": []
          },
          "execution_count": 19
        }
      ]
    },
    {
      "cell_type": "markdown",
      "metadata": {
        "id": "fzwro9k1sD3L",
        "colab_type": "text"
      },
      "source": [
        "Geting the length of the list"
      ]
    },
    {
      "cell_type": "code",
      "metadata": {
        "id": "zh1hyhNGsGoE",
        "colab_type": "code",
        "colab": {
          "base_uri": "https://localhost:8080/",
          "height": 35
        },
        "outputId": "251bd0c0-1932-4473-cf53-330ad5556f70"
      },
      "source": [
        "len(numbers)"
      ],
      "execution_count": 21,
      "outputs": [
        {
          "output_type": "execute_result",
          "data": {
            "text/plain": [
              "9"
            ]
          },
          "metadata": {
            "tags": []
          },
          "execution_count": 21
        }
      ]
    },
    {
      "cell_type": "markdown",
      "metadata": {
        "id": "cg384H6eshA3",
        "colab_type": "text"
      },
      "source": [
        "Using function 'enumerate' over list, to get index and element from it"
      ]
    },
    {
      "cell_type": "code",
      "metadata": {
        "id": "We1cuTt0snwX",
        "colab_type": "code",
        "colab": {
          "base_uri": "https://localhost:8080/",
          "height": 87
        },
        "outputId": "40ee68e7-d106-4b9f-acc3-ef91a39bf08a"
      },
      "source": [
        "for index, element in enumerate(companies):\n",
        "    print('Index of %s is %s' % (element, index))"
      ],
      "execution_count": 23,
      "outputs": [
        {
          "output_type": "stream",
          "text": [
            "Index of comp1 is 0\n",
            "Index of element_at_index_2 is 1\n",
            "Index of new element is 2\n",
            "Index of new element is 3\n"
          ],
          "name": "stdout"
        }
      ]
    },
    {
      "cell_type": "markdown",
      "metadata": {
        "id": "lij8BD_7uP2D",
        "colab_type": "text"
      },
      "source": [
        "Using sorted function to sort the list and also preserve the original list"
      ]
    },
    {
      "cell_type": "code",
      "metadata": {
        "id": "CHj8lTAfuVj9",
        "colab_type": "code",
        "colab": {
          "base_uri": "https://localhost:8080/",
          "height": 52
        },
        "outputId": "9f6a03f2-41ca-48a3-f9ae-1c1ae8c6b031"
      },
      "source": [
        "sorted_numbers = sorted(numbers)\n",
        "print('numbers:= ' + str(numbers))\n",
        "print('sorted_numbers:= ' + str(sorted_numbers))"
      ],
      "execution_count": 26,
      "outputs": [
        {
          "output_type": "stream",
          "text": [
            "numbers:= [9, 8, 7, 6, 5, 4, 3, 2, 1]\n",
            "sorted_numbers:= [1, 2, 3, 4, 5, 6, 7, 8, 9]\n"
          ],
          "name": "stdout"
        }
      ]
    }
  ]
}