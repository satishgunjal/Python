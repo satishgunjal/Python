{
  "nbformat": 4,
  "nbformat_minor": 0,
  "metadata": {
    "colab": {
      "name": "Dictionary.ipynb",
      "provenance": [],
      "authorship_tag": "ABX9TyM82ytjNtQEYnhnpe9ZtI2v",
      "include_colab_link": true
    },
    "kernelspec": {
      "name": "python3",
      "display_name": "Python 3"
    }
  },
  "cells": [
    {
      "cell_type": "markdown",
      "metadata": {
        "id": "view-in-github",
        "colab_type": "text"
      },
      "source": [
        "<a href=\"https://colab.research.google.com/github/satishgunjal/Python/blob/master/01_Learning/Dictionary.ipynb\" target=\"_parent\"><img src=\"https://colab.research.google.com/assets/colab-badge.svg\" alt=\"Open In Colab\"/></a>"
      ]
    },
    {
      "cell_type": "markdown",
      "metadata": {
        "id": "hvBiBCUg8mFm",
        "colab_type": "text"
      },
      "source": [
        "# Python Dictionaries\n",
        "A dictionary is a set of unordered key, value pairs. In a dictionary, the keys must be unique and they are stored in an unordered manner."
      ]
    },
    {
      "cell_type": "markdown",
      "metadata": {
        "id": "7tFUBA368tIg",
        "colab_type": "text"
      },
      "source": [
        "## Creating a Dictionary"
      ]
    },
    {
      "cell_type": "code",
      "metadata": {
        "id": "nOk_ptAZ8YRV",
        "colab_type": "code",
        "colab": {
          "base_uri": "https://localhost:8080/",
          "height": 35
        },
        "outputId": "80b54228-ea5d-4b49-d445-594c2d576275"
      },
      "source": [
        "person_information = {'city':'Pune','name':'Satish', \"food\":\"Aamras\"}\n",
        "person_information"
      ],
      "execution_count": 3,
      "outputs": [
        {
          "output_type": "execute_result",
          "data": {
            "text/plain": [
              "{'city': 'Pune', 'food': 'Aamras', 'name': 'Satish'}"
            ]
          },
          "metadata": {
            "tags": []
          },
          "execution_count": 3
        }
      ]
    },
    {
      "cell_type": "code",
      "metadata": {
        "id": "_w7mzLM994r8",
        "colab_type": "code",
        "colab": {
          "base_uri": "https://localhost:8080/",
          "height": 35
        },
        "outputId": "6fa984b6-344e-4629-8624-714c30c9a57d"
      },
      "source": [
        "type(person_information)"
      ],
      "execution_count": 2,
      "outputs": [
        {
          "output_type": "execute_result",
          "data": {
            "text/plain": [
              "dict"
            ]
          },
          "metadata": {
            "tags": []
          },
          "execution_count": 2
        }
      ]
    },
    {
      "cell_type": "markdown",
      "metadata": {
        "id": "5hDMIlxh-TbY",
        "colab_type": "text"
      },
      "source": [
        "##Get the values in Dictionary"
      ]
    },
    {
      "cell_type": "code",
      "metadata": {
        "id": "re5wBAeE-bJw",
        "colab_type": "code",
        "colab": {
          "base_uri": "https://localhost:8080/",
          "height": 35
        },
        "outputId": "7af73aaf-f7a4-457e-dd99-3cf557ee9c84"
      },
      "source": [
        "person_information['city']"
      ],
      "execution_count": 4,
      "outputs": [
        {
          "output_type": "execute_result",
          "data": {
            "text/plain": [
              "'Pune'"
            ]
          },
          "metadata": {
            "tags": []
          },
          "execution_count": 4
        }
      ]
    },
    {
      "cell_type": "code",
      "metadata": {
        "id": "SbStIAOl-3ba",
        "colab_type": "code",
        "colab": {
          "base_uri": "https://localhost:8080/",
          "height": 35
        },
        "outputId": "e1b20f8f-b18d-4773-f722-3d6aa6799389"
      },
      "source": [
        "person_information.get('city')"
      ],
      "execution_count": 5,
      "outputs": [
        {
          "output_type": "execute_result",
          "data": {
            "text/plain": [
              "'Pune'"
            ]
          },
          "metadata": {
            "tags": []
          },
          "execution_count": 5
        }
      ]
    },
    {
      "cell_type": "code",
      "metadata": {
        "id": "ONMkdWqr-8lx",
        "colab_type": "code",
        "colab": {
          "base_uri": "https://localhost:8080/",
          "height": 35
        },
        "outputId": "15945b11-4290-40ab-c5ee-7f8f7319e33a"
      },
      "source": [
        "# if there no key matching then it returns the provided default value. If default value is not provided then generates error\n",
        "person_information.get('invalid_key','default value') "
      ],
      "execution_count": 7,
      "outputs": [
        {
          "output_type": "execute_result",
          "data": {
            "text/plain": [
              "'default value'"
            ]
          },
          "metadata": {
            "tags": []
          },
          "execution_count": 7
        }
      ]
    },
    {
      "cell_type": "markdown",
      "metadata": {
        "id": "dFGm1x2x_bA4",
        "colab_type": "text"
      },
      "source": [
        "## Looping over Dictionary"
      ]
    },
    {
      "cell_type": "code",
      "metadata": {
        "id": "LCX--5LL_ej0",
        "colab_type": "code",
        "colab": {
          "base_uri": "https://localhost:8080/",
          "height": 173
        },
        "outputId": "9f2fc151-b1bd-467f-fbae-df3cca4182ab"
      },
      "source": [
        "for key, value in person_information.items():\n",
        "  print('key is %s' % (key))\n",
        "  print('value is %s' % (value))\n",
        "  print('------------------------------------')"
      ],
      "execution_count": 9,
      "outputs": [
        {
          "output_type": "stream",
          "text": [
            "key is city\n",
            "value is Pune\n",
            "------------------------------------\n",
            "key is name\n",
            "value is Satish\n",
            "------------------------------------\n",
            "key is food\n",
            "value is Aamras\n",
            "------------------------------------\n"
          ],
          "name": "stdout"
        }
      ]
    },
    {
      "cell_type": "markdown",
      "metadata": {
        "id": "gs8zpST0AUsB",
        "colab_type": "text"
      },
      "source": [
        "## Add element to Dictionary"
      ]
    },
    {
      "cell_type": "code",
      "metadata": {
        "id": "az0VAvN8AXWX",
        "colab_type": "code",
        "colab": {
          "base_uri": "https://localhost:8080/",
          "height": 35
        },
        "outputId": "4dbdbc86-e7a3-4a06-d7f5-a30ab1466348"
      },
      "source": [
        "person_information['gender'] = 'Male'\n",
        "person_information"
      ],
      "execution_count": 11,
      "outputs": [
        {
          "output_type": "execute_result",
          "data": {
            "text/plain": [
              "{'city': 'Pune', 'food': 'Aamras', 'gender': 'Male', 'name': 'Satish'}"
            ]
          },
          "metadata": {
            "tags": []
          },
          "execution_count": 11
        }
      ]
    },
    {
      "cell_type": "markdown",
      "metadata": {
        "id": "H04d20cCGX2n",
        "colab_type": "text"
      },
      "source": [
        "Note in above result though we added 'gender' at the end it appeared inbetween the dictionary. **A dictionary in Python doesn't preserve the order**"
      ]
    },
    {
      "cell_type": "code",
      "metadata": {
        "id": "WJLOROfvDT0-",
        "colab_type": "code",
        "colab": {
          "base_uri": "https://localhost:8080/",
          "height": 35
        },
        "outputId": "2b378110-e425-4e4d-c798-f7474c779ef2"
      },
      "source": [
        "# create new dictionary\n",
        "additional_information={'address':'Sinhgad Road', 'pin':'411041'}\n",
        "additional_information"
      ],
      "execution_count": 14,
      "outputs": [
        {
          "output_type": "execute_result",
          "data": {
            "text/plain": [
              "{'address': 'Sinhgad Road', 'pin': '411041'}"
            ]
          },
          "metadata": {
            "tags": []
          },
          "execution_count": 14
        }
      ]
    },
    {
      "cell_type": "code",
      "metadata": {
        "id": "rhnjFc0sDvkD",
        "colab_type": "code",
        "colab": {
          "base_uri": "https://localhost:8080/",
          "height": 121
        },
        "outputId": "035103a5-8943-48a0-e322-fc9fb0d82b6b"
      },
      "source": [
        "# Combine two dictionaries\n",
        "person_information.update(additional_information)\n",
        "person_information"
      ],
      "execution_count": 16,
      "outputs": [
        {
          "output_type": "execute_result",
          "data": {
            "text/plain": [
              "{'address': 'Sinhgad Road',\n",
              " 'city': 'Pune',\n",
              " 'food': 'Aamras',\n",
              " 'gender': 'Male',\n",
              " 'name': 'Satish',\n",
              " 'pin': '411041'}"
            ]
          },
          "metadata": {
            "tags": []
          },
          "execution_count": 16
        }
      ]
    },
    {
      "cell_type": "markdown",
      "metadata": {
        "id": "eMjjyzfhD-jq",
        "colab_type": "text"
      },
      "source": [
        "## Deletes elements of a Dictionary"
      ]
    },
    {
      "cell_type": "code",
      "metadata": {
        "id": "1eCF9NlrEMiB",
        "colab_type": "code",
        "colab": {
          "base_uri": "https://localhost:8080/",
          "height": 104
        },
        "outputId": "72bf25b6-e832-412a-df5c-eed6b8112156"
      },
      "source": [
        "del person_information['address']\n",
        "person_information"
      ],
      "execution_count": 17,
      "outputs": [
        {
          "output_type": "execute_result",
          "data": {
            "text/plain": [
              "{'city': 'Pune',\n",
              " 'food': 'Aamras',\n",
              " 'gender': 'Male',\n",
              " 'name': 'Satish',\n",
              " 'pin': '411041'}"
            ]
          },
          "metadata": {
            "tags": []
          },
          "execution_count": 17
        }
      ]
    },
    {
      "cell_type": "markdown",
      "metadata": {
        "id": "uDBCCZ_oEpLc",
        "colab_type": "text"
      },
      "source": [
        "If you try to delete with non existant/wrong key then it will generate the error. To avoid the rror use 'pop' method with default value"
      ]
    },
    {
      "cell_type": "code",
      "metadata": {
        "id": "QLzFexuzEBYh",
        "colab_type": "code",
        "colab": {
          "base_uri": "https://localhost:8080/",
          "height": 35
        },
        "outputId": "8407de91-07cf-4891-f420-03a3c237cb97"
      },
      "source": [
        "person_information.pop('address','disply this in case key not mathcing/found/wrong')"
      ],
      "execution_count": 18,
      "outputs": [
        {
          "output_type": "execute_result",
          "data": {
            "text/plain": [
              "'isply this in case key not mathcing/found/wrong'"
            ]
          },
          "metadata": {
            "tags": []
          },
          "execution_count": 18
        }
      ]
    },
    {
      "cell_type": "markdown",
      "metadata": {
        "id": "_g8sCszAFIm3",
        "colab_type": "text"
      },
      "source": [
        "## More facts about Python Dictionary"
      ]
    },
    {
      "cell_type": "code",
      "metadata": {
        "id": "0TSJVK4BFLZX",
        "colab_type": "code",
        "colab": {
          "base_uri": "https://localhost:8080/",
          "height": 52
        },
        "outputId": "999317df-c875-4ff9-ce12-37f4e1d35ada"
      },
      "source": [
        "# Check the presence of key using 'has_key' method in python 2.7\n",
        "#person_information.has_key('address')\n",
        "#has_key has been deprecated in Python 3.0. Alternatively you can use 'in'\n",
        "\n",
        "print('address' in person_information)\n",
        "print('name' in person_information)"
      ],
      "execution_count": 23,
      "outputs": [
        {
          "output_type": "stream",
          "text": [
            "False\n",
            "True\n"
          ],
          "name": "stdout"
        }
      ]
    }
  ]
}