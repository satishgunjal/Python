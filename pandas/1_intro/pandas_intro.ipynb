{
  "nbformat": 4,
  "nbformat_minor": 0,
  "metadata": {
    "colab": {
      "name": "pandas_intro.ipynb",
      "provenance": [],
      "authorship_tag": "ABX9TyPcV8PuSMOws3lPsW8WmtS4",
      "include_colab_link": true
    },
    "kernelspec": {
      "name": "python3",
      "display_name": "Python 3"
    }
  },
  "cells": [
    {
      "cell_type": "markdown",
      "metadata": {
        "id": "view-in-github",
        "colab_type": "text"
      },
      "source": [
        "<a href=\"https://colab.research.google.com/github/satishgunjal/Python/blob/master/pandas/1_intro/pandas_intro.ipynb\" target=\"_parent\"><img src=\"https://colab.research.google.com/assets/colab-badge.svg\" alt=\"Open In Colab\"/></a>"
      ]
    },
    {
      "cell_type": "code",
      "metadata": {
        "id": "pl0behyOwbhJ",
        "colab_type": "code",
        "colab": {}
      },
      "source": [
        "import pandas as pd\n"
      ],
      "execution_count": 0,
      "outputs": []
    },
    {
      "cell_type": "code",
      "metadata": {
        "id": "4G5szjlr_TB0",
        "colab_type": "code",
        "colab": {}
      },
      "source": [
        "# If your are running the Jupyter notebook locally then use below code to load the file\n",
        "#df = pd.read_csv('your file path')\n",
        "#df"
      ],
      "execution_count": 0,
      "outputs": []
    },
    {
      "cell_type": "markdown",
      "metadata": {
        "id": "2wY8OAOV9EeA",
        "colab_type": "text"
      },
      "source": [
        "**Uploading files from your local file system**\n",
        "\n",
        "`files.upload` returns a dictionary of the files which were uploaded.\n",
        "The dictionary is keyed by the file name and values are the data which were uploaded.\n",
        "\n",
        "'files.upload()' will enable to browse and select the file from local folder"
      ]
    },
    {
      "cell_type": "code",
      "metadata": {
        "id": "q7BLZcOA3wp6",
        "colab_type": "code",
        "colab": {
          "resources": {
            "http://localhost:8080/nbextensions/google.colab/files.js": {
              "data": "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",
              "ok": true,
              "headers": [
                [
                  "content-type",
                  "application/javascript"
                ]
              ],
              "status": 200,
              "status_text": ""
            }
          },
          "base_uri": "https://localhost:8080/",
          "height": 75
        },
        "outputId": "a3b46752-8231-4f38-8ac1-a9cfbddc3b5b"
      },
      "source": [
        "from google.colab import files\n",
        "\n",
        "uploaded = files.upload()"
      ],
      "execution_count": 9,
      "outputs": [
        {
          "output_type": "display_data",
          "data": {
            "text/html": [
              "\n",
              "     <input type=\"file\" id=\"files-6cfc00bd-15ca-4bba-ad87-7f3a53a0cb40\" name=\"files[]\" multiple disabled />\n",
              "     <output id=\"result-6cfc00bd-15ca-4bba-ad87-7f3a53a0cb40\">\n",
              "      Upload widget is only available when the cell has been executed in the\n",
              "      current browser session. Please rerun this cell to enable.\n",
              "      </output>\n",
              "      <script src=\"/nbextensions/google.colab/files.js\"></script> "
            ],
            "text/plain": [
              "<IPython.core.display.HTML object>"
            ]
          },
          "metadata": {
            "tags": []
          }
        },
        {
          "output_type": "stream",
          "text": [
            "Saving nyc_weather.csv to nyc_weather.csv\n"
          ],
          "name": "stdout"
        }
      ]
    },
    {
      "cell_type": "code",
      "metadata": {
        "id": "VpX2zTjQ-ANq",
        "colab_type": "code",
        "colab": {
          "base_uri": "https://localhost:8080/",
          "height": 35
        },
        "outputId": "c0fcbe39-473a-483d-d549-3d5c05188fcc"
      },
      "source": [
        "for fn in uploaded.keys():\n",
        "  print('User uploaded file \"{name}\" with length {length} bytes'.format(\n",
        "      name=fn, length=len(uploaded[fn])))"
      ],
      "execution_count": 10,
      "outputs": [
        {
          "output_type": "stream",
          "text": [
            "User uploaded file \"nyc_weather.csv\" with length 1368 bytes\n"
          ],
          "name": "stdout"
        }
      ]
    },
    {
      "cell_type": "markdown",
      "metadata": {
        "id": "6Y_ha5fB_Dly",
        "colab_type": "text"
      },
      "source": [
        "Now if we print the dictionary object 'uploaded' then it will print raw data from file. where key is file name and value is data from file"
      ]
    },
    {
      "cell_type": "code",
      "metadata": {
        "id": "2blhnSsU-TM8",
        "colab_type": "code",
        "colab": {
          "base_uri": "https://localhost:8080/",
          "height": 55
        },
        "outputId": "aac8afd2-fe7e-4e95-c915-068589c7bc5a"
      },
      "source": [
        "uploaded"
      ],
      "execution_count": 11,
      "outputs": [
        {
          "output_type": "execute_result",
          "data": {
            "text/plain": [
              "{'nyc_weather.csv': b'EST,Temperature,DewPoint,Humidity,Sea Level PressureIn,VisibilityMiles,WindSpeedMPH,PrecipitationIn,CloudCover,Events,WindDirDegrees\\n1/1/2016,38,23,52,30.03,10,8,0,5,,281\\n1/2/2016,36,18,46,30.02,10,7,0,3,,275\\n1/3/2016,40,21,47,29.86,10,8,0,1,,277\\n1/4/2016,25,9,44,30.05,10,9,0,3,,345\\n1/5/2016,20,-3,41,30.57,10,5,0,0,,333\\n1/6/2016,33,4,35,30.5,10,4,0,0,,259\\n1/7/2016,39,11,33,30.28,10,2,0,3,,293\\n1/8/2016,39,29,64,30.2,10,4,0,8,,79\\n1/9/2016,44,38,77,30.16,9,8,T,8,Rain,76\\n1/10/2016,50,46,71,29.59,4,,1.8,7,Rain,109\\n1/11/2016,33,8,37,29.92,10,,0,1,,289\\n1/12/2016,35,15,53,29.85,10,6,T,4,,235\\n1/13/2016,26,4,42,29.94,10,10,0,0,,284\\n1/14/2016,30,12,47,29.95,10,5,T,7,,266\\n1/15/2016,43,31,62,29.82,9,5,T,2,,101\\n1/16/2016,47,37,70,29.52,8,7,0.24,7,Rain,340\\n1/17/2016,36,23,66,29.78,8,6,0.05,6,Fog-Snow,345\\n1/18/2016,25,6,53,29.83,9,12,T,2,Snow,293\\n1/19/2016,22,3,42,30.03,10,11,0,1,,293\\n1/20/2016,32,15,49,30.13,10,6,0,2,,302\\n1/21/2016,31,11,45,30.15,10,6,0,1,,312\\n1/22/2016,26,6,41,30.21,9,,0.01,3,Snow,34\\n1/23/2016,26,21,78,29.77,1,16,2.31,8,Fog-Snow,42\\n1/24/2016,28,11,53,29.92,8,6,T,3,Snow,327\\n1/25/2016,34,18,54,30.25,10,3,0,2,,286\\n1/26/2016,43,29,56,30.03,10,7,0,2,,244\\n1/27/2016,41,22,45,30.03,10,7,T,3,Rain,311\\n1/28/2016,37,20,51,29.9,10,5,0,1,,234\\n1/29/2016,36,21,50,29.58,10,8,0,4,,298\\n1/30/2016,34,16,46,30.01,10,7,0,0,,257\\n1/31/2016,46,28,52,29.9,10,5,0,0,,241\\n'}"
            ]
          },
          "metadata": {
            "tags": []
          },
          "execution_count": 11
        }
      ]
    },
    {
      "cell_type": "markdown",
      "metadata": {
        "id": "WM4qpe4c_4D_",
        "colab_type": "text"
      },
      "source": [
        "Now use below code to load the file from dictionary object to pandas dataframe"
      ]
    },
    {
      "cell_type": "code",
      "metadata": {
        "id": "s_-tuKOSANvD",
        "colab_type": "code",
        "colab": {
          "base_uri": "https://localhost:8080/",
          "height": 999
        },
        "outputId": "a93f082e-6144-462d-e967-9796c00d9dd6"
      },
      "source": [
        "import io\n",
        "\n",
        "df = pd.read_csv(io.StringIO(uploaded['nyc_weather.csv'].decode('utf-8')))\n",
        "df"
      ],
      "execution_count": 14,
      "outputs": [
        {
          "output_type": "execute_result",
          "data": {
            "text/html": [
              "<div>\n",
              "<style scoped>\n",
              "    .dataframe tbody tr th:only-of-type {\n",
              "        vertical-align: middle;\n",
              "    }\n",
              "\n",
              "    .dataframe tbody tr th {\n",
              "        vertical-align: top;\n",
              "    }\n",
              "\n",
              "    .dataframe thead th {\n",
              "        text-align: right;\n",
              "    }\n",
              "</style>\n",
              "<table border=\"1\" class=\"dataframe\">\n",
              "  <thead>\n",
              "    <tr style=\"text-align: right;\">\n",
              "      <th></th>\n",
              "      <th>EST</th>\n",
              "      <th>Temperature</th>\n",
              "      <th>DewPoint</th>\n",
              "      <th>Humidity</th>\n",
              "      <th>Sea Level PressureIn</th>\n",
              "      <th>VisibilityMiles</th>\n",
              "      <th>WindSpeedMPH</th>\n",
              "      <th>PrecipitationIn</th>\n",
              "      <th>CloudCover</th>\n",
              "      <th>Events</th>\n",
              "      <th>WindDirDegrees</th>\n",
              "    </tr>\n",
              "  </thead>\n",
              "  <tbody>\n",
              "    <tr>\n",
              "      <th>0</th>\n",
              "      <td>1/1/2016</td>\n",
              "      <td>38</td>\n",
              "      <td>23</td>\n",
              "      <td>52</td>\n",
              "      <td>30.03</td>\n",
              "      <td>10</td>\n",
              "      <td>8.0</td>\n",
              "      <td>0</td>\n",
              "      <td>5</td>\n",
              "      <td>NaN</td>\n",
              "      <td>281</td>\n",
              "    </tr>\n",
              "    <tr>\n",
              "      <th>1</th>\n",
              "      <td>1/2/2016</td>\n",
              "      <td>36</td>\n",
              "      <td>18</td>\n",
              "      <td>46</td>\n",
              "      <td>30.02</td>\n",
              "      <td>10</td>\n",
              "      <td>7.0</td>\n",
              "      <td>0</td>\n",
              "      <td>3</td>\n",
              "      <td>NaN</td>\n",
              "      <td>275</td>\n",
              "    </tr>\n",
              "    <tr>\n",
              "      <th>2</th>\n",
              "      <td>1/3/2016</td>\n",
              "      <td>40</td>\n",
              "      <td>21</td>\n",
              "      <td>47</td>\n",
              "      <td>29.86</td>\n",
              "      <td>10</td>\n",
              "      <td>8.0</td>\n",
              "      <td>0</td>\n",
              "      <td>1</td>\n",
              "      <td>NaN</td>\n",
              "      <td>277</td>\n",
              "    </tr>\n",
              "    <tr>\n",
              "      <th>3</th>\n",
              "      <td>1/4/2016</td>\n",
              "      <td>25</td>\n",
              "      <td>9</td>\n",
              "      <td>44</td>\n",
              "      <td>30.05</td>\n",
              "      <td>10</td>\n",
              "      <td>9.0</td>\n",
              "      <td>0</td>\n",
              "      <td>3</td>\n",
              "      <td>NaN</td>\n",
              "      <td>345</td>\n",
              "    </tr>\n",
              "    <tr>\n",
              "      <th>4</th>\n",
              "      <td>1/5/2016</td>\n",
              "      <td>20</td>\n",
              "      <td>-3</td>\n",
              "      <td>41</td>\n",
              "      <td>30.57</td>\n",
              "      <td>10</td>\n",
              "      <td>5.0</td>\n",
              "      <td>0</td>\n",
              "      <td>0</td>\n",
              "      <td>NaN</td>\n",
              "      <td>333</td>\n",
              "    </tr>\n",
              "    <tr>\n",
              "      <th>5</th>\n",
              "      <td>1/6/2016</td>\n",
              "      <td>33</td>\n",
              "      <td>4</td>\n",
              "      <td>35</td>\n",
              "      <td>30.50</td>\n",
              "      <td>10</td>\n",
              "      <td>4.0</td>\n",
              "      <td>0</td>\n",
              "      <td>0</td>\n",
              "      <td>NaN</td>\n",
              "      <td>259</td>\n",
              "    </tr>\n",
              "    <tr>\n",
              "      <th>6</th>\n",
              "      <td>1/7/2016</td>\n",
              "      <td>39</td>\n",
              "      <td>11</td>\n",
              "      <td>33</td>\n",
              "      <td>30.28</td>\n",
              "      <td>10</td>\n",
              "      <td>2.0</td>\n",
              "      <td>0</td>\n",
              "      <td>3</td>\n",
              "      <td>NaN</td>\n",
              "      <td>293</td>\n",
              "    </tr>\n",
              "    <tr>\n",
              "      <th>7</th>\n",
              "      <td>1/8/2016</td>\n",
              "      <td>39</td>\n",
              "      <td>29</td>\n",
              "      <td>64</td>\n",
              "      <td>30.20</td>\n",
              "      <td>10</td>\n",
              "      <td>4.0</td>\n",
              "      <td>0</td>\n",
              "      <td>8</td>\n",
              "      <td>NaN</td>\n",
              "      <td>79</td>\n",
              "    </tr>\n",
              "    <tr>\n",
              "      <th>8</th>\n",
              "      <td>1/9/2016</td>\n",
              "      <td>44</td>\n",
              "      <td>38</td>\n",
              "      <td>77</td>\n",
              "      <td>30.16</td>\n",
              "      <td>9</td>\n",
              "      <td>8.0</td>\n",
              "      <td>T</td>\n",
              "      <td>8</td>\n",
              "      <td>Rain</td>\n",
              "      <td>76</td>\n",
              "    </tr>\n",
              "    <tr>\n",
              "      <th>9</th>\n",
              "      <td>1/10/2016</td>\n",
              "      <td>50</td>\n",
              "      <td>46</td>\n",
              "      <td>71</td>\n",
              "      <td>29.59</td>\n",
              "      <td>4</td>\n",
              "      <td>NaN</td>\n",
              "      <td>1.8</td>\n",
              "      <td>7</td>\n",
              "      <td>Rain</td>\n",
              "      <td>109</td>\n",
              "    </tr>\n",
              "    <tr>\n",
              "      <th>10</th>\n",
              "      <td>1/11/2016</td>\n",
              "      <td>33</td>\n",
              "      <td>8</td>\n",
              "      <td>37</td>\n",
              "      <td>29.92</td>\n",
              "      <td>10</td>\n",
              "      <td>NaN</td>\n",
              "      <td>0</td>\n",
              "      <td>1</td>\n",
              "      <td>NaN</td>\n",
              "      <td>289</td>\n",
              "    </tr>\n",
              "    <tr>\n",
              "      <th>11</th>\n",
              "      <td>1/12/2016</td>\n",
              "      <td>35</td>\n",
              "      <td>15</td>\n",
              "      <td>53</td>\n",
              "      <td>29.85</td>\n",
              "      <td>10</td>\n",
              "      <td>6.0</td>\n",
              "      <td>T</td>\n",
              "      <td>4</td>\n",
              "      <td>NaN</td>\n",
              "      <td>235</td>\n",
              "    </tr>\n",
              "    <tr>\n",
              "      <th>12</th>\n",
              "      <td>1/13/2016</td>\n",
              "      <td>26</td>\n",
              "      <td>4</td>\n",
              "      <td>42</td>\n",
              "      <td>29.94</td>\n",
              "      <td>10</td>\n",
              "      <td>10.0</td>\n",
              "      <td>0</td>\n",
              "      <td>0</td>\n",
              "      <td>NaN</td>\n",
              "      <td>284</td>\n",
              "    </tr>\n",
              "    <tr>\n",
              "      <th>13</th>\n",
              "      <td>1/14/2016</td>\n",
              "      <td>30</td>\n",
              "      <td>12</td>\n",
              "      <td>47</td>\n",
              "      <td>29.95</td>\n",
              "      <td>10</td>\n",
              "      <td>5.0</td>\n",
              "      <td>T</td>\n",
              "      <td>7</td>\n",
              "      <td>NaN</td>\n",
              "      <td>266</td>\n",
              "    </tr>\n",
              "    <tr>\n",
              "      <th>14</th>\n",
              "      <td>1/15/2016</td>\n",
              "      <td>43</td>\n",
              "      <td>31</td>\n",
              "      <td>62</td>\n",
              "      <td>29.82</td>\n",
              "      <td>9</td>\n",
              "      <td>5.0</td>\n",
              "      <td>T</td>\n",
              "      <td>2</td>\n",
              "      <td>NaN</td>\n",
              "      <td>101</td>\n",
              "    </tr>\n",
              "    <tr>\n",
              "      <th>15</th>\n",
              "      <td>1/16/2016</td>\n",
              "      <td>47</td>\n",
              "      <td>37</td>\n",
              "      <td>70</td>\n",
              "      <td>29.52</td>\n",
              "      <td>8</td>\n",
              "      <td>7.0</td>\n",
              "      <td>0.24</td>\n",
              "      <td>7</td>\n",
              "      <td>Rain</td>\n",
              "      <td>340</td>\n",
              "    </tr>\n",
              "    <tr>\n",
              "      <th>16</th>\n",
              "      <td>1/17/2016</td>\n",
              "      <td>36</td>\n",
              "      <td>23</td>\n",
              "      <td>66</td>\n",
              "      <td>29.78</td>\n",
              "      <td>8</td>\n",
              "      <td>6.0</td>\n",
              "      <td>0.05</td>\n",
              "      <td>6</td>\n",
              "      <td>Fog-Snow</td>\n",
              "      <td>345</td>\n",
              "    </tr>\n",
              "    <tr>\n",
              "      <th>17</th>\n",
              "      <td>1/18/2016</td>\n",
              "      <td>25</td>\n",
              "      <td>6</td>\n",
              "      <td>53</td>\n",
              "      <td>29.83</td>\n",
              "      <td>9</td>\n",
              "      <td>12.0</td>\n",
              "      <td>T</td>\n",
              "      <td>2</td>\n",
              "      <td>Snow</td>\n",
              "      <td>293</td>\n",
              "    </tr>\n",
              "    <tr>\n",
              "      <th>18</th>\n",
              "      <td>1/19/2016</td>\n",
              "      <td>22</td>\n",
              "      <td>3</td>\n",
              "      <td>42</td>\n",
              "      <td>30.03</td>\n",
              "      <td>10</td>\n",
              "      <td>11.0</td>\n",
              "      <td>0</td>\n",
              "      <td>1</td>\n",
              "      <td>NaN</td>\n",
              "      <td>293</td>\n",
              "    </tr>\n",
              "    <tr>\n",
              "      <th>19</th>\n",
              "      <td>1/20/2016</td>\n",
              "      <td>32</td>\n",
              "      <td>15</td>\n",
              "      <td>49</td>\n",
              "      <td>30.13</td>\n",
              "      <td>10</td>\n",
              "      <td>6.0</td>\n",
              "      <td>0</td>\n",
              "      <td>2</td>\n",
              "      <td>NaN</td>\n",
              "      <td>302</td>\n",
              "    </tr>\n",
              "    <tr>\n",
              "      <th>20</th>\n",
              "      <td>1/21/2016</td>\n",
              "      <td>31</td>\n",
              "      <td>11</td>\n",
              "      <td>45</td>\n",
              "      <td>30.15</td>\n",
              "      <td>10</td>\n",
              "      <td>6.0</td>\n",
              "      <td>0</td>\n",
              "      <td>1</td>\n",
              "      <td>NaN</td>\n",
              "      <td>312</td>\n",
              "    </tr>\n",
              "    <tr>\n",
              "      <th>21</th>\n",
              "      <td>1/22/2016</td>\n",
              "      <td>26</td>\n",
              "      <td>6</td>\n",
              "      <td>41</td>\n",
              "      <td>30.21</td>\n",
              "      <td>9</td>\n",
              "      <td>NaN</td>\n",
              "      <td>0.01</td>\n",
              "      <td>3</td>\n",
              "      <td>Snow</td>\n",
              "      <td>34</td>\n",
              "    </tr>\n",
              "    <tr>\n",
              "      <th>22</th>\n",
              "      <td>1/23/2016</td>\n",
              "      <td>26</td>\n",
              "      <td>21</td>\n",
              "      <td>78</td>\n",
              "      <td>29.77</td>\n",
              "      <td>1</td>\n",
              "      <td>16.0</td>\n",
              "      <td>2.31</td>\n",
              "      <td>8</td>\n",
              "      <td>Fog-Snow</td>\n",
              "      <td>42</td>\n",
              "    </tr>\n",
              "    <tr>\n",
              "      <th>23</th>\n",
              "      <td>1/24/2016</td>\n",
              "      <td>28</td>\n",
              "      <td>11</td>\n",
              "      <td>53</td>\n",
              "      <td>29.92</td>\n",
              "      <td>8</td>\n",
              "      <td>6.0</td>\n",
              "      <td>T</td>\n",
              "      <td>3</td>\n",
              "      <td>Snow</td>\n",
              "      <td>327</td>\n",
              "    </tr>\n",
              "    <tr>\n",
              "      <th>24</th>\n",
              "      <td>1/25/2016</td>\n",
              "      <td>34</td>\n",
              "      <td>18</td>\n",
              "      <td>54</td>\n",
              "      <td>30.25</td>\n",
              "      <td>10</td>\n",
              "      <td>3.0</td>\n",
              "      <td>0</td>\n",
              "      <td>2</td>\n",
              "      <td>NaN</td>\n",
              "      <td>286</td>\n",
              "    </tr>\n",
              "    <tr>\n",
              "      <th>25</th>\n",
              "      <td>1/26/2016</td>\n",
              "      <td>43</td>\n",
              "      <td>29</td>\n",
              "      <td>56</td>\n",
              "      <td>30.03</td>\n",
              "      <td>10</td>\n",
              "      <td>7.0</td>\n",
              "      <td>0</td>\n",
              "      <td>2</td>\n",
              "      <td>NaN</td>\n",
              "      <td>244</td>\n",
              "    </tr>\n",
              "    <tr>\n",
              "      <th>26</th>\n",
              "      <td>1/27/2016</td>\n",
              "      <td>41</td>\n",
              "      <td>22</td>\n",
              "      <td>45</td>\n",
              "      <td>30.03</td>\n",
              "      <td>10</td>\n",
              "      <td>7.0</td>\n",
              "      <td>T</td>\n",
              "      <td>3</td>\n",
              "      <td>Rain</td>\n",
              "      <td>311</td>\n",
              "    </tr>\n",
              "    <tr>\n",
              "      <th>27</th>\n",
              "      <td>1/28/2016</td>\n",
              "      <td>37</td>\n",
              "      <td>20</td>\n",
              "      <td>51</td>\n",
              "      <td>29.90</td>\n",
              "      <td>10</td>\n",
              "      <td>5.0</td>\n",
              "      <td>0</td>\n",
              "      <td>1</td>\n",
              "      <td>NaN</td>\n",
              "      <td>234</td>\n",
              "    </tr>\n",
              "    <tr>\n",
              "      <th>28</th>\n",
              "      <td>1/29/2016</td>\n",
              "      <td>36</td>\n",
              "      <td>21</td>\n",
              "      <td>50</td>\n",
              "      <td>29.58</td>\n",
              "      <td>10</td>\n",
              "      <td>8.0</td>\n",
              "      <td>0</td>\n",
              "      <td>4</td>\n",
              "      <td>NaN</td>\n",
              "      <td>298</td>\n",
              "    </tr>\n",
              "    <tr>\n",
              "      <th>29</th>\n",
              "      <td>1/30/2016</td>\n",
              "      <td>34</td>\n",
              "      <td>16</td>\n",
              "      <td>46</td>\n",
              "      <td>30.01</td>\n",
              "      <td>10</td>\n",
              "      <td>7.0</td>\n",
              "      <td>0</td>\n",
              "      <td>0</td>\n",
              "      <td>NaN</td>\n",
              "      <td>257</td>\n",
              "    </tr>\n",
              "    <tr>\n",
              "      <th>30</th>\n",
              "      <td>1/31/2016</td>\n",
              "      <td>46</td>\n",
              "      <td>28</td>\n",
              "      <td>52</td>\n",
              "      <td>29.90</td>\n",
              "      <td>10</td>\n",
              "      <td>5.0</td>\n",
              "      <td>0</td>\n",
              "      <td>0</td>\n",
              "      <td>NaN</td>\n",
              "      <td>241</td>\n",
              "    </tr>\n",
              "  </tbody>\n",
              "</table>\n",
              "</div>"
            ],
            "text/plain": [
              "          EST  Temperature  DewPoint  ...  CloudCover    Events  WindDirDegrees\n",
              "0    1/1/2016           38        23  ...           5       NaN             281\n",
              "1    1/2/2016           36        18  ...           3       NaN             275\n",
              "2    1/3/2016           40        21  ...           1       NaN             277\n",
              "3    1/4/2016           25         9  ...           3       NaN             345\n",
              "4    1/5/2016           20        -3  ...           0       NaN             333\n",
              "5    1/6/2016           33         4  ...           0       NaN             259\n",
              "6    1/7/2016           39        11  ...           3       NaN             293\n",
              "7    1/8/2016           39        29  ...           8       NaN              79\n",
              "8    1/9/2016           44        38  ...           8      Rain              76\n",
              "9   1/10/2016           50        46  ...           7      Rain             109\n",
              "10  1/11/2016           33         8  ...           1       NaN             289\n",
              "11  1/12/2016           35        15  ...           4       NaN             235\n",
              "12  1/13/2016           26         4  ...           0       NaN             284\n",
              "13  1/14/2016           30        12  ...           7       NaN             266\n",
              "14  1/15/2016           43        31  ...           2       NaN             101\n",
              "15  1/16/2016           47        37  ...           7      Rain             340\n",
              "16  1/17/2016           36        23  ...           6  Fog-Snow             345\n",
              "17  1/18/2016           25         6  ...           2      Snow             293\n",
              "18  1/19/2016           22         3  ...           1       NaN             293\n",
              "19  1/20/2016           32        15  ...           2       NaN             302\n",
              "20  1/21/2016           31        11  ...           1       NaN             312\n",
              "21  1/22/2016           26         6  ...           3      Snow              34\n",
              "22  1/23/2016           26        21  ...           8  Fog-Snow              42\n",
              "23  1/24/2016           28        11  ...           3      Snow             327\n",
              "24  1/25/2016           34        18  ...           2       NaN             286\n",
              "25  1/26/2016           43        29  ...           2       NaN             244\n",
              "26  1/27/2016           41        22  ...           3      Rain             311\n",
              "27  1/28/2016           37        20  ...           1       NaN             234\n",
              "28  1/29/2016           36        21  ...           4       NaN             298\n",
              "29  1/30/2016           34        16  ...           0       NaN             257\n",
              "30  1/31/2016           46        28  ...           0       NaN             241\n",
              "\n",
              "[31 rows x 11 columns]"
            ]
          },
          "metadata": {
            "tags": []
          },
          "execution_count": 14
        }
      ]
    },
    {
      "cell_type": "markdown",
      "metadata": {
        "id": "5oem6ZrHA37w",
        "colab_type": "text"
      },
      "source": [
        "**Q1: What is the maximum temperature?**"
      ]
    },
    {
      "cell_type": "code",
      "metadata": {
        "id": "nu2Y250SBEwp",
        "colab_type": "code",
        "colab": {
          "base_uri": "https://localhost:8080/",
          "height": 35
        },
        "outputId": "07bc8bfb-d0e5-4881-9fec-a62d8e2d8093"
      },
      "source": [
        "df['Temperature'].max()"
      ],
      "execution_count": 15,
      "outputs": [
        {
          "output_type": "execute_result",
          "data": {
            "text/plain": [
              "50"
            ]
          },
          "metadata": {
            "tags": []
          },
          "execution_count": 15
        }
      ]
    },
    {
      "cell_type": "markdown",
      "metadata": {
        "id": "4QG5ZwC1BZmP",
        "colab_type": "text"
      },
      "source": [
        "**Q2: Retreive the dates on which It had rained**   \n",
        "    Here 'EST' is date column and 'Events' column contains different events like Rain, Snow etc"
      ]
    },
    {
      "cell_type": "code",
      "metadata": {
        "id": "dGeqhwqiCTxc",
        "colab_type": "code",
        "colab": {
          "base_uri": "https://localhost:8080/",
          "height": 104
        },
        "outputId": "bc09a8e0-cb35-421f-dd56-42f9f521afd5"
      },
      "source": [
        "df['EST'][df['Events']== 'Rain']"
      ],
      "execution_count": 17,
      "outputs": [
        {
          "output_type": "execute_result",
          "data": {
            "text/plain": [
              "8      1/9/2016\n",
              "9     1/10/2016\n",
              "15    1/16/2016\n",
              "26    1/27/2016\n",
              "Name: EST, dtype: object"
            ]
          },
          "metadata": {
            "tags": []
          },
          "execution_count": 17
        }
      ]
    },
    {
      "cell_type": "markdown",
      "metadata": {
        "id": "TAkZ81e3CplA",
        "colab_type": "text"
      },
      "source": [
        "**Q3: What is the average windspeed?**                                          \n",
        "Note here some of the rows of column 'WindSpeedMPH' contain 'NaN' values which will affect the avaerage\n",
        " "
      ]
    },
    {
      "cell_type": "code",
      "metadata": {
        "id": "XI-pTQJ8DCIP",
        "colab_type": "code",
        "colab": {
          "base_uri": "https://localhost:8080/",
          "height": 35
        },
        "outputId": "9f2c27cb-8841-473a-e131-25fe615d6e52"
      },
      "source": [
        "df['WindSpeedMPH'].mean()"
      ],
      "execution_count": 18,
      "outputs": [
        {
          "output_type": "execute_result",
          "data": {
            "text/plain": [
              "6.892857142857143"
            ]
          },
          "metadata": {
            "tags": []
          },
          "execution_count": 18
        }
      ]
    },
    {
      "cell_type": "markdown",
      "metadata": {
        "id": "KRWf7iKmDkhV",
        "colab_type": "text"
      },
      "source": [
        "Now replace the 'NaN' with 0 to get the correct average"
      ]
    },
    {
      "cell_type": "code",
      "metadata": {
        "id": "GJVNR2t3DuJQ",
        "colab_type": "code",
        "colab": {
          "base_uri": "https://localhost:8080/",
          "height": 35
        },
        "outputId": "e537851d-1640-4cf5-f4df-2ffc5e60c7ad"
      },
      "source": [
        "df.fillna(0,inplace=True) # Here 'inplace = True' to update same dataframe\n",
        "df['WindSpeedMPH'].mean()"
      ],
      "execution_count": 19,
      "outputs": [
        {
          "output_type": "execute_result",
          "data": {
            "text/plain": [
              "6.225806451612903"
            ]
          },
          "metadata": {
            "tags": []
          },
          "execution_count": 19
        }
      ]
    },
    {
      "cell_type": "code",
      "metadata": {
        "id": "DyVxLJNUB7pP",
        "colab_type": "code",
        "colab": {}
      },
      "source": [
        ""
      ],
      "execution_count": 0,
      "outputs": []
    },
    {
      "cell_type": "markdown",
      "metadata": {
        "id": "fOqwodLD9jUA",
        "colab_type": "text"
      },
      "source": [
        ""
      ]
    },
    {
      "cell_type": "markdown",
      "metadata": {
        "id": "RkXIFO5L8_9f",
        "colab_type": "text"
      },
      "source": [
        ""
      ]
    }
  ]
}