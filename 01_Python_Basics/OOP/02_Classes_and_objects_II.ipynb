{
  "nbformat": 4,
  "nbformat_minor": 0,
  "metadata": {
    "colab": {
      "name": "02_Classes_and_objects_II.ipynb",
      "provenance": [],
      "authorship_tag": "ABX9TyNYL/Vfv+uyYEQ/JO8j6uom",
      "include_colab_link": true
    },
    "kernelspec": {
      "name": "python3",
      "display_name": "Python 3"
    }
  },
  "cells": [
    {
      "cell_type": "markdown",
      "metadata": {
        "id": "view-in-github",
        "colab_type": "text"
      },
      "source": [
        "<a href=\"https://colab.research.google.com/github/satishgunjal/Python/blob/master/01_Python_Basics/OOP/02_Classes_and_objects_II.ipynb\" target=\"_parent\"><img src=\"https://colab.research.google.com/assets/colab-badge.svg\" alt=\"Open In Colab\"/></a>"
      ]
    },
    {
      "cell_type": "markdown",
      "metadata": {
        "id": "AZloeBCJf16t",
        "colab_type": "text"
      },
      "source": [
        "## Classes and Objects (Inheritance and Composition)"
      ]
    },
    {
      "cell_type": "markdown",
      "metadata": {
        "id": "04B-hA9ggy8h",
        "colab_type": "text"
      },
      "source": [
        "## What is inheritance\n",
        "*  In inheritance an object is based on another object. \n",
        "*  When inheritance is implemented, the methods and attributes that were defined in the base class will also be present in the inherited class.\n",
        "* Syntax for inheritance in python is\n",
        "\n",
        "\n",
        "\n",
        "   class DerivedClassName(BaseClassName):                             \n",
        "     pass\n",
        "\n",
        "     "
      ]
    },
    {
      "cell_type": "markdown",
      "metadata": {
        "id": "NsQGrdDShvoS",
        "colab_type": "text"
      },
      "source": [
        "In below example Rocket is base class and MarsRover is inherited class"
      ]
    },
    {
      "cell_type": "code",
      "metadata": {
        "id": "qwflfD5Oft3E",
        "colab_type": "code",
        "colab": {
          "base_uri": "https://localhost:8080/",
          "height": 70
        },
        "outputId": "11c5c4cc-3b96-4aa0-da23-e8a86033739c"
      },
      "source": [
        "class Rocket:\n",
        "    def __init__(self, name, distance):\n",
        "        self.name = name\n",
        "        self.distance = distance\n",
        "\n",
        "    def launch(self):\n",
        "        return \"%s has reached %s\" % (self.name, self.distance)\n",
        "\n",
        "\n",
        "class MarsRover(Rocket): # inheriting from the base class\n",
        "    def __init__(self, name, distance, maker):\n",
        "        Rocket.__init__(self, name, distance)\n",
        "        self.maker = maker\n",
        "\n",
        "    def get_maker(self):\n",
        "        return \"%s Launched by %s\" % (self.name, self.maker)\n",
        "\n",
        "\n",
        "if __name__ == \"__main__\":\n",
        "    x = Rocket(\"simple rocket\", \"till stratosphere\")\n",
        "    y = MarsRover(\"mars_rover\", \"till Mars\", \"ISRO\")\n",
        "    print(x.launch())\n",
        "    print(y.launch())\n",
        "    print(y.get_maker())"
      ],
      "execution_count": 1,
      "outputs": [
        {
          "output_type": "stream",
          "text": [
            "simple rocket has reached till stratosphere\n",
            "mars_rover has reached till Mars\n",
            "mars_rover Launched by ISRO\n"
          ],
          "name": "stdout"
        }
      ]
    },
    {
      "cell_type": "markdown",
      "metadata": {
        "id": "KfIuyAnIisvY",
        "colab_type": "text"
      },
      "source": [
        "## What is Composition\n",
        "*  In composition, we do not inherit from the base class but establish relationships between classes through the use of instance variables that are references to other objects. \n",
        "* pseudocode looks like below"
      ]
    },
    {
      "cell_type": "code",
      "metadata": {
        "id": "XHENwBeSjLQq",
        "colab_type": "code",
        "colab": {}
      },
      "source": [
        "# class GenericClass:\n",
        "#     define some attributes and methods\n",
        "\n",
        "# class ASpecificClass:\n",
        "#     Instance_variable_of_generic_class = GenericClass\n",
        "\n",
        "# # use this instance somewhere in the class\n",
        "#     some_method(Instance_variable_of_generic_class)"
      ],
      "execution_count": 0,
      "outputs": []
    },
    {
      "cell_type": "markdown",
      "metadata": {
        "id": "R3uYFoPujZyP",
        "colab_type": "text"
      },
      "source": [
        "For example in the below example we instantiate the Rocket class using self.rocket and then using self.rocket in the method get_maker."
      ]
    },
    {
      "cell_type": "code",
      "metadata": {
        "id": "3kLsUuawjazp",
        "colab_type": "code",
        "colab": {
          "base_uri": "https://localhost:8080/",
          "height": 52
        },
        "outputId": "ba7bcbf8-fc30-43c0-9e42-27a4458c5e58"
      },
      "source": [
        "class MarsRoverComp():\n",
        "    def __init__(self, name, distance, maker):\n",
        "        self.rocket = Rocket(name, distance) # instantiating the base\n",
        "\n",
        "        self.maker = maker\n",
        "\n",
        "    def get_maker(self):\n",
        "        return \"%s Launched by %s\" % (self.rocket.name, self.maker)\n",
        "\n",
        "\n",
        "if __name__ == \"__main__\":\n",
        "    z = MarsRover(\"mars_rover2\", \"till Mars\", \"ISRO\")\n",
        "    print(z.launch())\n",
        "    print(z.get_maker())"
      ],
      "execution_count": 2,
      "outputs": [
        {
          "output_type": "stream",
          "text": [
            "mars_rover2 has reached till Mars\n",
            "mars_rover2 Launched by ISRO\n"
          ],
          "name": "stdout"
        }
      ]
    }
  ]
}