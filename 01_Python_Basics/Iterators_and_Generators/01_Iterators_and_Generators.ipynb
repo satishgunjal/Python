{
  "nbformat": 4,
  "nbformat_minor": 0,
  "metadata": {
    "colab": {
      "name": "01_Iterators_and_Generators.ipynb",
      "provenance": [],
      "authorship_tag": "ABX9TyO+mVCINgUdgrhHxjKz6bXN",
      "include_colab_link": true
    },
    "kernelspec": {
      "name": "python3",
      "display_name": "Python 3"
    }
  },
  "cells": [
    {
      "cell_type": "markdown",
      "metadata": {
        "id": "view-in-github",
        "colab_type": "text"
      },
      "source": [
        "<a href=\"https://colab.research.google.com/github/satishgunjal/Python/blob/master/01_Python_Basics/Iterators_and_Generators/01_Iterators_and_Generators.ipynb\" target=\"_parent\"><img src=\"https://colab.research.google.com/assets/colab-badge.svg\" alt=\"Open In Colab\"/></a>"
      ]
    },
    {
      "cell_type": "markdown",
      "metadata": {
        "id": "uPMkTJA4IBZD",
        "colab_type": "text"
      },
      "source": [
        "# Iterators and Generators"
      ]
    },
    {
      "cell_type": "markdown",
      "metadata": {
        "id": "Z7DWcj2lInyE",
        "colab_type": "text"
      },
      "source": [
        "## Python iterators and iterator protocols\n",
        "* To create an object/class as an iterator you have to implement the methods __iter__() and __next__() to your object\n",
        "* __iter__: This returns the iterator object itself and is used while using the \"for\" and \"in\" keywords.\n",
        "* __next__: This returns the next value. This would return the StopIteration error once all the objects have been looped through."
      ]
    },
    {
      "cell_type": "code",
      "metadata": {
        "id": "1Ks5hhfsKVON",
        "colab_type": "code",
        "colab": {}
      },
      "source": [
        "# Create an iterator that returns numbers, starting with 1, and each sequence will increase by one (returning 1,2,3,4,5 etc.):\n",
        "class MyNumbers:\n",
        "  def __iter__(self):\n",
        "    self.a = 1\n",
        "    return self\n",
        "\n",
        "  def __next__(self):\n",
        "    x = self.a\n",
        "    self.a += 1\n",
        "    return x\n",
        "\n",
        "myclass = MyNumbers()\n",
        "myiter = iter(myclass)"
      ],
      "execution_count": 0,
      "outputs": []
    },
    {
      "cell_type": "code",
      "metadata": {
        "id": "wZHRLu-8Kq7F",
        "colab_type": "code",
        "colab": {
          "base_uri": "https://localhost:8080/",
          "height": 35
        },
        "outputId": "e3a47cec-2c5d-4378-81b0-31089b507d69"
      },
      "source": [
        "# Will keep returning next number\n",
        "print(next(myiter))"
      ],
      "execution_count": 16,
      "outputs": [
        {
          "output_type": "stream",
          "text": [
            "11\n"
          ],
          "name": "stdout"
        }
      ]
    },
    {
      "cell_type": "markdown",
      "metadata": {
        "id": "KX_pb4OJL5B9",
        "colab_type": "text"
      },
      "source": [
        "## Python Gnerators\n",
        "* [Reference](https://www.programiz.com/python-programming/generator)"
      ]
    }
  ]
}