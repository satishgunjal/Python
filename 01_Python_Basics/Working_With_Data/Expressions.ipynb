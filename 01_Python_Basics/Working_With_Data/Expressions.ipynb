{
  "nbformat": 4,
  "nbformat_minor": 0,
  "metadata": {
    "colab": {
      "name": "Expressions.ipynb",
      "provenance": [],
      "authorship_tag": "ABX9TyPklpC+zE6MOYXKOUa83swE",
      "include_colab_link": true
    },
    "kernelspec": {
      "name": "python3",
      "display_name": "Python 3"
    }
  },
  "cells": [
    {
      "cell_type": "markdown",
      "metadata": {
        "id": "view-in-github",
        "colab_type": "text"
      },
      "source": [
        "<a href=\"https://colab.research.google.com/github/satishgunjal/Python/blob/master/01_Learning/Expressions.ipynb\" target=\"_parent\"><img src=\"https://colab.research.google.com/assets/colab-badge.svg\" alt=\"Open In Colab\"/></a>"
      ]
    },
    {
      "cell_type": "markdown",
      "metadata": {
        "id": "oMxpDzY2ORbB",
        "colab_type": "text"
      },
      "source": [
        "## Python Expressions"
      ]
    },
    {
      "cell_type": "markdown",
      "metadata": {
        "id": "4ig3VlgoQZXr",
        "colab_type": "text"
      },
      "source": [
        "## List comprehension"
      ]
    },
    {
      "cell_type": "code",
      "metadata": {
        "id": "I_gpas8ROAV1",
        "colab_type": "code",
        "outputId": "6fb84365-0bd0-4bd2-ef24-fca2dc875e39",
        "colab": {
          "base_uri": "https://localhost:8080/",
          "height": 35
        }
      },
      "source": [
        "# Get all the number withing range 10 and put them into list\n",
        "[x for x in range(10)]"
      ],
      "execution_count": 0,
      "outputs": [
        {
          "output_type": "execute_result",
          "data": {
            "text/plain": [
              "[0, 1, 2, 3, 4, 5, 6, 7, 8, 9]"
            ]
          },
          "metadata": {
            "tags": []
          },
          "execution_count": 1
        }
      ]
    },
    {
      "cell_type": "markdown",
      "metadata": {
        "id": "FGLiE37aQegG",
        "colab_type": "text"
      },
      "source": [
        "## Disctionasry Comprehension"
      ]
    },
    {
      "cell_type": "code",
      "metadata": {
        "id": "kH38k6grQk81",
        "colab_type": "code",
        "outputId": "542d5548-66e7-4296-a504-f339739c45e8",
        "colab": {
          "base_uri": "https://localhost:8080/",
          "height": 35
        }
      },
      "source": [
        "#Get all the numbers within range 5 and store them as \"key's\" in dictionary object with square of these numbers as its \"values\"\n",
        "{x:x**2 for x in range(5)}"
      ],
      "execution_count": 0,
      "outputs": [
        {
          "output_type": "execute_result",
          "data": {
            "text/plain": [
              "{0: 0, 1: 1, 2: 4, 3: 9, 4: 16}"
            ]
          },
          "metadata": {
            "tags": []
          },
          "execution_count": 2
        }
      ]
    },
    {
      "cell_type": "markdown",
      "metadata": {
        "id": "8ei_IjVsRuwa",
        "colab_type": "text"
      },
      "source": [
        "## Generator Expression\n",
        "\n",
        "Initialize the generator object, that returns the values within 10 when object is called"
      ]
    },
    {
      "cell_type": "code",
      "metadata": {
        "id": "wJw53wy5Rx66",
        "colab_type": "code",
        "outputId": "19d44d40-2a98-4e08-e597-b3b42a47c945",
        "colab": {
          "base_uri": "https://localhost:8080/",
          "height": 35
        }
      },
      "source": [
        "(x for x in range(10))"
      ],
      "execution_count": 0,
      "outputs": [
        {
          "output_type": "execute_result",
          "data": {
            "text/plain": [
              "<generator object <genexpr> at 0x7f643d018678>"
            ]
          },
          "metadata": {
            "tags": []
          },
          "execution_count": 3
        }
      ]
    },
    {
      "cell_type": "code",
      "metadata": {
        "id": "_6I9cd8iR29B",
        "colab_type": "code",
        "outputId": "f188983f-c97d-43bd-8c88-cfe70e709828",
        "colab": {
          "base_uri": "https://localhost:8080/",
          "height": 35
        }
      },
      "source": [
        "list(x for x in range(10))"
      ],
      "execution_count": 0,
      "outputs": [
        {
          "output_type": "execute_result",
          "data": {
            "text/plain": [
              "[0, 1, 2, 3, 4, 5, 6, 7, 8, 9]"
            ]
          },
          "metadata": {
            "tags": []
          },
          "execution_count": 6
        }
      ]
    },
    {
      "cell_type": "markdown",
      "metadata": {
        "id": "p02JdEPKTEyx",
        "colab_type": "text"
      },
      "source": [
        "## Conditional Expression\n",
        "\n",
        "**Syntax: true_value if Condtion else false_value**"
      ]
    },
    {
      "cell_type": "code",
      "metadata": {
        "id": "Sdvbsmv9TT0u",
        "colab_type": "code",
        "outputId": "fb2846de-4eea-4692-8103-e699932c5be1",
        "colab": {
          "base_uri": "https://localhost:8080/",
          "height": 35
        }
      },
      "source": [
        "x = '1' if True else '2'\n",
        "x"
      ],
      "execution_count": 0,
      "outputs": [
        {
          "output_type": "execute_result",
          "data": {
            "text/plain": [
              "'1'"
            ]
          },
          "metadata": {
            "tags": []
          },
          "execution_count": 16
        }
      ]
    }
  ]
}